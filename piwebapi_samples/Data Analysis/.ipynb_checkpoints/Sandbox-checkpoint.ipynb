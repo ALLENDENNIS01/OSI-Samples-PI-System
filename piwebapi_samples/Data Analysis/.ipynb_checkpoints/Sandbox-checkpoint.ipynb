{
 "cells": [
  {
   "cell_type": "code",
   "execution_count": 3,
   "metadata": {},
   "outputs": [],
   "source": [
    "import json\n",
    "import getpass\n",
    "import requests\n",
    "import pandas as pd\n",
    "import numpy as np\n",
    "import pprint\n",
    "import urllib3\n",
    "import datetime\n",
    "import dateutil.parser\n",
    "import sklearn\n",
    "import matplotlib\n",
    "import types\n",
    "import uuid\n",
    "\n",
    "urllib3.disable_warnings()\n",
    "from requests.auth import HTTPBasicAuth\n",
    "from requests_kerberos import HTTPKerberosAuth\n",
    "\n",
    "from sklearn import linear_model\n",
    "from sklearn.model_selection import train_test_split \n",
    "from sklearn import neighbors\n",
    "from matplotlib import pyplot as plt\n"
   ]
  },
  {
   "cell_type": "markdown",
   "metadata": {},
   "source": [
    "# Connect to PI Web API and SLTC database and create dataframe"
   ]
  },
  {
   "cell_type": "code",
   "execution_count": 5,
   "metadata": {
    "scrolled": true
   },
   "outputs": [
    {
     "name": "stdout",
     "output_type": "stream",
     "text": [
      "% Cooling at VAV Start                    148\n",
      "Day of Week                               148\n",
      "Duration                                  148\n",
      "IsMonday                                  148\n",
      "Outside Air Temperature at VAV Start      148\n",
      "Outside Relative Humidity at VAV Start    148\n",
      "Setpoint Offset at start time             148\n",
      "VAVCO Startup                             148\n",
      "dtype: int64\n"
     ]
    },
    {
     "data": {
      "text/html": [
       "<div>\n",
       "<style scoped>\n",
       "    .dataframe tbody tr th:only-of-type {\n",
       "        vertical-align: middle;\n",
       "    }\n",
       "\n",
       "    .dataframe tbody tr th {\n",
       "        vertical-align: top;\n",
       "    }\n",
       "\n",
       "    .dataframe thead th {\n",
       "        text-align: right;\n",
       "    }\n",
       "</style>\n",
       "<table border=\"1\" class=\"dataframe\">\n",
       "  <thead>\n",
       "    <tr style=\"text-align: right;\">\n",
       "      <th></th>\n",
       "      <th>% Cooling at VAV Start</th>\n",
       "      <th>Day of Week</th>\n",
       "      <th>Duration</th>\n",
       "      <th>IsMonday</th>\n",
       "      <th>Outside Air Temperature at VAV Start</th>\n",
       "      <th>Outside Relative Humidity at VAV Start</th>\n",
       "      <th>Setpoint Offset at start time</th>\n",
       "      <th>VAVCO Startup</th>\n",
       "    </tr>\n",
       "  </thead>\n",
       "  <tbody>\n",
       "    <tr>\n",
       "      <th>0</th>\n",
       "      <td>19.900000</td>\n",
       "      <td>0</td>\n",
       "      <td>14.883333</td>\n",
       "      <td>1</td>\n",
       "      <td>43.992020</td>\n",
       "      <td>86.753990</td>\n",
       "      <td>1.000000</td>\n",
       "      <td>VAVCO startup - VAVCO 5-11 - 2020-03-16 03:57:...</td>\n",
       "    </tr>\n",
       "    <tr>\n",
       "      <th>1</th>\n",
       "      <td>20.241659</td>\n",
       "      <td>0</td>\n",
       "      <td>90.000000</td>\n",
       "      <td>1</td>\n",
       "      <td>42.400009</td>\n",
       "      <td>87.032890</td>\n",
       "      <td>1.000000</td>\n",
       "      <td>VAVCO startup - VAVCO 3-11 - 2020-03-16 06:27:...</td>\n",
       "    </tr>\n",
       "    <tr>\n",
       "      <th>2</th>\n",
       "      <td>38.508141</td>\n",
       "      <td>0</td>\n",
       "      <td>30.000000</td>\n",
       "      <td>1</td>\n",
       "      <td>42.400009</td>\n",
       "      <td>87.032982</td>\n",
       "      <td>1.500145</td>\n",
       "      <td>VAVCO startup - VAVCO 3-09 - 2020-03-16 06:27:...</td>\n",
       "    </tr>\n",
       "    <tr>\n",
       "      <th>3</th>\n",
       "      <td>19.900000</td>\n",
       "      <td>0</td>\n",
       "      <td>14.950000</td>\n",
       "      <td>1</td>\n",
       "      <td>42.337868</td>\n",
       "      <td>86.808090</td>\n",
       "      <td>1.000000</td>\n",
       "      <td>VAVCO startup - VAVCO 5-11 - 2020-03-16 07:12:...</td>\n",
       "    </tr>\n",
       "    <tr>\n",
       "      <th>4</th>\n",
       "      <td>30.299931</td>\n",
       "      <td>1</td>\n",
       "      <td>30.000000</td>\n",
       "      <td>0</td>\n",
       "      <td>42.406582</td>\n",
       "      <td>82.094002</td>\n",
       "      <td>1.500000</td>\n",
       "      <td>VAVCO startup - VAVCO 2-13 - 2020-03-17 06:57:...</td>\n",
       "    </tr>\n",
       "  </tbody>\n",
       "</table>\n",
       "</div>"
      ],
      "text/plain": [
       "   % Cooling at VAV Start  Day of Week   Duration  IsMonday  \\\n",
       "0               19.900000            0  14.883333         1   \n",
       "1               20.241659            0  90.000000         1   \n",
       "2               38.508141            0  30.000000         1   \n",
       "3               19.900000            0  14.950000         1   \n",
       "4               30.299931            1  30.000000         0   \n",
       "\n",
       "   Outside Air Temperature at VAV Start  \\\n",
       "0                             43.992020   \n",
       "1                             42.400009   \n",
       "2                             42.400009   \n",
       "3                             42.337868   \n",
       "4                             42.406582   \n",
       "\n",
       "   Outside Relative Humidity at VAV Start  Setpoint Offset at start time  \\\n",
       "0                               86.753990                       1.000000   \n",
       "1                               87.032890                       1.000000   \n",
       "2                               87.032982                       1.500145   \n",
       "3                               86.808090                       1.000000   \n",
       "4                               82.094002                       1.500000   \n",
       "\n",
       "                                       VAVCO Startup  \n",
       "0  VAVCO startup - VAVCO 5-11 - 2020-03-16 03:57:...  \n",
       "1  VAVCO startup - VAVCO 3-11 - 2020-03-16 06:27:...  \n",
       "2  VAVCO startup - VAVCO 3-09 - 2020-03-16 06:27:...  \n",
       "3  VAVCO startup - VAVCO 5-11 - 2020-03-16 07:12:...  \n",
       "4  VAVCO startup - VAVCO 2-13 - 2020-03-17 06:57:...  "
      ]
     },
     "execution_count": 5,
     "metadata": {},
     "output_type": "execute_result"
    }
   ],
   "source": [
    "# This cell does most of the data obtaining and cleanup work. It first connects to the PI System via PI Web API \n",
    "# using basic/kerberos authentication where in it gets maximum 1000 eventframes which fit our criteria. \n",
    "\n",
    "security_method = \"basic\"\n",
    "\n",
    "\"\"\" Create API call security method\n",
    "        @param security_method string:  security method to use:  basic or kerberos\n",
    "        @param user_name string: The user's credentials name\n",
    "        @param user_password string: The user's credentials password\n",
    "\"\"\"\n",
    "def call_security_method(security_method, user_name, user_password):\n",
    "    \n",
    "    if security_method.lower() == 'basic':\n",
    "        security_auth = HTTPBasicAuth(user_name, user_password)\n",
    "    else:\n",
    "        security_auth = HTTPKerberosAuth(mutual_authentication='REQUIRED',\n",
    "                                         sanitize_mutual_error_response=False, delegate = True)\n",
    "\n",
    "    return security_auth\n",
    "\n",
    "\"\"\" Method to send HTTP GET requests\n",
    "        @param query:  query string to execute\n",
    "        Also uses the credentials.json file to read the username and password for Basic Authentication\n",
    "\"\"\"\n",
    "def get(query):\n",
    "    \n",
    "    with open('credentials.json') as c:\n",
    "        data = json.load(c)\n",
    "        username = data['username']\n",
    "        password = data['password']\n",
    "        domain = data['domain']\n",
    "    \n",
    "    security_auth = call_security_method(security_method, domain + \"\\\\\" + username , password)\n",
    "    response = requests.get(query, auth= security_auth, verify=False)\n",
    "\n",
    "    return response\n",
    "\n",
    "\"\"\" Method to send HTTP POST requests\n",
    "        @param query:  query string to execute\n",
    "        @param body: body of the request \n",
    "        Also uses the credentials.json file to read the username and password for Basic Authentication\n",
    "\"\"\"\n",
    "def post(query, body):\n",
    "    \n",
    "    header = {\n",
    "        'content-type': 'application/json',\n",
    "        'X-Requested-With':'XmlHttpRequest'\n",
    "    }\n",
    "    with open('credentials.json') as c:\n",
    "        data = json.load(c)\n",
    "        username = data['username']\n",
    "        password = data['password']\n",
    "        domain = data['domain']\n",
    "        \n",
    "    security_auth = call_security_method(security_method, domain + \"\\\\\" + username , password)\n",
    "    response = requests.post(query, auth= security_auth, verify=False, json=body, headers=header)\n",
    "    print(response.status_code)\n",
    "    return response\n",
    "\n",
    "\n",
    "\"\"\" Method to get the database web ID of a given database path\n",
    "        @param path: path of the database. More info can be found here: https://your-server/piwebapi/help/topics/path-syntax\n",
    "\"\"\"\n",
    "def getDatabaseWebID(path):\n",
    "    getDatabaseQuery = \"https://localhost/piwebapi/assetdatabases?path=\" + databasePath\n",
    "    database = json.loads(get(getDatabaseQuery).text)\n",
    "    print(database)\n",
    "    return database['WebId']\n",
    "    \n",
    "\n",
    "#get database WebID\n",
    "\n",
    "databasePath = \"\\\\\\\\RESTUNIT\\\\Building Example-Ray\"\n",
    "databaseWebID = getDatabaseWebID(databasePath)\n",
    "\n",
    "\n",
    "\n",
    "# This query is built for targeting the PI Web API EventFrame Search endpoint.\n",
    "# More information can be found under : https://your-server/piwebapi/help/controllers/eventframe/actions/geteventframesquery\n",
    "# In this particular case, we are looking for 1000 eventframes which are part of VAVCO startup template and which ocurred during\n",
    "# the past year. That explains our query parameters of template, startTime, endTime and maxCount.\n",
    "# Additionally, we are looking for eventframes which have the duration less than 2 hours so that we can count out anamolies for\n",
    "# the purpose of cleaning up our dataset. That is why we decided to use the query feature of the search endpoints.\n",
    "# More information about query syntax can be found here : https://your-server/piwebapi/help/topics/search-query-syntax\n",
    "getEFQuery = \"https://localhost/piwebapi/eventframes/search?databaseWebId=\"+\\\n",
    "                databaseWebID + \"&template=VAVCO%20startup&startTime=*-1d&endTime=*+1d&maxCount=1000&query=duration:<2h\"\n",
    "\n",
    "\n",
    "#send GET request to PI Web API\n",
    "response = get(getEFQuery)\n",
    "data = json.loads(response.text)\n",
    "\n",
    "items = data['Items']\n",
    "\n",
    "#initalizing predictor arrays\n",
    "efarray = []\n",
    "setpoint = []\n",
    "percentcooling = []\n",
    "isMonday = []\n",
    "dayofweek = []\n",
    "outsideairtemp = []\n",
    "outsidehumidity = []\n",
    "\n",
    "#target variable\n",
    "duration = []\n",
    "\n",
    "for i in items:\n",
    "    attributes_response = get(i['Links']['Attributes'])\n",
    "    attributes = json.loads(attributes_response.text) #attributes\n",
    "    attribute_items = attributes['Items']\n",
    "\n",
    "    #Add eventframe name to the dataframe\n",
    "    efarray.append(i['Name'])\n",
    "    \n",
    "    #parse Time\n",
    "    startTime = dateutil.parser.parse(i['StartTime'])\n",
    "    endTime = dateutil.parser.parse(i['EndTime'])\n",
    "    \n",
    "    #add target duration in minutes\n",
    "    elapsedTime = endTime-startTime\n",
    "    duration.append(elapsedTime.seconds/60)\n",
    "    \n",
    "    \n",
    "    \n",
    "    for j in attribute_items:\n",
    "        #add predictors to data frame\n",
    "\n",
    "        if j['Name'] == 'Setpoint Offset at start time':\n",
    "            value_response = get(j['Links']['Value'])\n",
    "            setpoint.append(json.loads(value_response.text)['Value'])\n",
    "        if j['Name'] == '% Cooling at VAV Start':\n",
    "            value_response = get(j['Links']['Value'])\n",
    "            percentcooling.append(json.loads(value_response.text)['Value'])\n",
    "        if j['Name'] == 'Outside Relative Humidity at VAV Start':\n",
    "            value_response = get(j['Links']['Value'])\n",
    "            outsidehumidity.append(json.loads(value_response.text)['Value'])\n",
    "        if j['Name'] == 'Outside Air Temperature at VAV Start':\n",
    "            value_response = get(j['Links']['Value'])\n",
    "            outsideairtemp.append(json.loads(value_response.text)['Value'])\n",
    "    \n",
    "    #add IsMonday predictor \n",
    "    if startTime.weekday() == 0:\n",
    "        isMonday.append(1)\n",
    "    else:\n",
    "        isMonday.append(0)\n",
    "    \n",
    "    dayofweek.append(startTime.weekday())\n",
    "        \n",
    "\n",
    "df = pd.DataFrame({\n",
    "    'VAVCO Startup' : efarray,\n",
    "    'Setpoint Offset at start time' : setpoint,\n",
    "    '% Cooling at VAV Start' : percentcooling,\n",
    "    'IsMonday' : isMonday,\n",
    "    'Duration' : duration,\n",
    "    'Day of Week' : dayofweek,\n",
    "    'Outside Relative Humidity at VAV Start' : outsidehumidity,\n",
    "    'Outside Air Temperature at VAV Start' : outsideairtemp\n",
    "})\n",
    "\n",
    "print(df.count())\n",
    "df.head()\n",
    "\n",
    "        "
   ]
  },
  {
   "cell_type": "markdown",
   "metadata": {},
   "source": [
    "# Develop initial model using obvious predictors"
   ]
  },
  {
   "cell_type": "code",
   "execution_count": 6,
   "metadata": {},
   "outputs": [
    {
     "name": "stdout",
     "output_type": "stream",
     "text": [
      "-0.07489428262604059\n"
     ]
    }
   ],
   "source": [
    "\n",
    "X = df[['Outside Air Temperature at VAV Start', 'Outside Relative Humidity at VAV Start']]\n",
    "\n",
    "Y = df['Duration'] \n",
    "    \n",
    "x_train, x_test,y_train,y_test = train_test_split(X,Y,test_size =0.3)\n",
    "\n",
    "\n",
    "#Using Linear Regression\n",
    "regr1 = linear_model.LinearRegression() \n",
    "regr1.fit(x_train, y_train) \n",
    "print(regr1.score(x_test, y_test))"
   ]
  },
  {
   "cell_type": "markdown",
   "metadata": {},
   "source": [
    "# Develop model with better predictors"
   ]
  },
  {
   "cell_type": "code",
   "execution_count": 7,
   "metadata": {
    "scrolled": true
   },
   "outputs": [
    {
     "name": "stdout",
     "output_type": "stream",
     "text": [
      "0.431191830321181\n"
     ]
    }
   ],
   "source": [
    "# develop good model\n",
    "\n",
    "\n",
    "X = df[['% Cooling at VAV Start', 'Setpoint Offset at start time', 'IsMonday']]\n",
    "\n",
    "Y = df['Duration'] \n",
    "    \n",
    "x_train, x_test,y_train,y_test = train_test_split(X,Y,test_size =0.3)\n",
    "\n",
    "\n",
    "#Using Linear Regression\n",
    "regr = linear_model.LinearRegression() \n",
    "regr.fit(x_train, y_train) \n",
    "print(regr.score(x_test, y_test))"
   ]
  },
  {
   "cell_type": "markdown",
   "metadata": {},
   "source": [
    "# Phase 2 : Predict for real-time predictors "
   ]
  },
  {
   "cell_type": "code",
   "execution_count": 8,
   "metadata": {},
   "outputs": [
    {
     "name": "stdout",
     "output_type": "stream",
     "text": [
      "{'WebId': 'F1RDqJ8XavWMuk6RWRiWobNbQwh5NB4SPADUKhf2uJRz9oAAUkVTVFVOSVRcQlVJTERJTkcgRVhBTVBMRQ', 'Id': 'e1419387-c023-420d-a17f-6b89473f6800', 'Name': 'Building Example', 'Description': '', 'Path': '\\\\\\\\RESTUNIT\\\\Building Example', 'ExtendedProperties': {}, 'Links': {'Self': 'https://localhost/piwebapi/assetdatabases/F1RDqJ8XavWMuk6RWRiWobNbQwh5NB4SPADUKhf2uJRz9oAAUkVTVFVOSVRcQlVJTERJTkcgRVhBTVBMRQ', 'Elements': 'https://localhost/piwebapi/assetdatabases/F1RDqJ8XavWMuk6RWRiWobNbQwh5NB4SPADUKhf2uJRz9oAAUkVTVFVOSVRcQlVJTERJTkcgRVhBTVBMRQ/elements', 'ElementTemplates': 'https://localhost/piwebapi/assetdatabases/F1RDqJ8XavWMuk6RWRiWobNbQwh5NB4SPADUKhf2uJRz9oAAUkVTVFVOSVRcQlVJTERJTkcgRVhBTVBMRQ/elementtemplates', 'EventFrames': 'https://localhost/piwebapi/assetdatabases/F1RDqJ8XavWMuk6RWRiWobNbQwh5NB4SPADUKhf2uJRz9oAAUkVTVFVOSVRcQlVJTERJTkcgRVhBTVBMRQ/eventframes', 'AssetServer': 'https://localhost/piwebapi/assetservers/F1RSqJ8XavWMuk6RWRiWobNbQwUkVTVFVOSVQ', 'ElementCategories': 'https://localhost/piwebapi/assetdatabases/F1RDqJ8XavWMuk6RWRiWobNbQwh5NB4SPADUKhf2uJRz9oAAUkVTVFVOSVRcQlVJTERJTkcgRVhBTVBMRQ/elementcategories', 'AttributeCategories': 'https://localhost/piwebapi/assetdatabases/F1RDqJ8XavWMuk6RWRiWobNbQwh5NB4SPADUKhf2uJRz9oAAUkVTVFVOSVRcQlVJTERJTkcgRVhBTVBMRQ/attributecategories', 'TableCategories': 'https://localhost/piwebapi/assetdatabases/F1RDqJ8XavWMuk6RWRiWobNbQwh5NB4SPADUKhf2uJRz9oAAUkVTVFVOSVRcQlVJTERJTkcgRVhBTVBMRQ/tablecategories', 'AnalysisCategories': 'https://localhost/piwebapi/assetdatabases/F1RDqJ8XavWMuk6RWRiWobNbQwh5NB4SPADUKhf2uJRz9oAAUkVTVFVOSVRcQlVJTERJTkcgRVhBTVBMRQ/analysiscategories', 'AnalysisTemplates': 'https://localhost/piwebapi/assetdatabases/F1RDqJ8XavWMuk6RWRiWobNbQwh5NB4SPADUKhf2uJRz9oAAUkVTVFVOSVRcQlVJTERJTkcgRVhBTVBMRQ/analysistemplates', 'EnumerationSets': 'https://localhost/piwebapi/assetdatabases/F1RDqJ8XavWMuk6RWRiWobNbQwh5NB4SPADUKhf2uJRz9oAAUkVTVFVOSVRcQlVJTERJTkcgRVhBTVBMRQ/enumerationsets', 'Tables': 'https://localhost/piwebapi/assetdatabases/F1RDqJ8XavWMuk6RWRiWobNbQwh5NB4SPADUKhf2uJRz9oAAUkVTVFVOSVRcQlVJTERJTkcgRVhBTVBMRQ/tables', 'Security': 'https://localhost/piwebapi/assetdatabases/F1RDqJ8XavWMuk6RWRiWobNbQwh5NB4SPADUKhf2uJRz9oAAUkVTVFVOSVRcQlVJTERJTkcgRVhBTVBMRQ/security', 'SecurityEntries': 'https://localhost/piwebapi/assetdatabases/F1RDqJ8XavWMuk6RWRiWobNbQwh5NB4SPADUKhf2uJRz9oAAUkVTVFVOSVRcQlVJTERJTkcgRVhBTVBMRQ/securityentries'}}\n"
     ]
    },
    {
     "ename": "KeyError",
     "evalue": "'Value'",
     "output_type": "error",
     "traceback": [
      "\u001b[1;31m---------------------------------------------------------------------------\u001b[0m",
      "\u001b[1;31mKeyError\u001b[0m                                  Traceback (most recent call last)",
      "\u001b[1;32m<ipython-input-11-bee008be8752>\u001b[0m in \u001b[0;36m<module>\u001b[1;34m\u001b[0m\n\u001b[0;32m     19\u001b[0m         \u001b[1;32mif\u001b[0m \u001b[0mj\u001b[0m\u001b[1;33m[\u001b[0m\u001b[1;34m'Name'\u001b[0m\u001b[1;33m]\u001b[0m\u001b[1;33m==\u001b[0m \u001b[1;34m'% cooling'\u001b[0m\u001b[1;33m:\u001b[0m\u001b[1;33m\u001b[0m\u001b[1;33m\u001b[0m\u001b[0m\n\u001b[0;32m     20\u001b[0m             \u001b[0mvalue_response\u001b[0m \u001b[1;33m=\u001b[0m \u001b[0mget\u001b[0m\u001b[1;33m(\u001b[0m\u001b[0mj\u001b[0m\u001b[1;33m[\u001b[0m\u001b[1;34m'Links'\u001b[0m\u001b[1;33m]\u001b[0m\u001b[1;33m[\u001b[0m\u001b[1;34m'Value'\u001b[0m\u001b[1;33m]\u001b[0m\u001b[1;33m)\u001b[0m\u001b[1;33m\u001b[0m\u001b[1;33m\u001b[0m\u001b[0m\n\u001b[1;32m---> 21\u001b[1;33m             \u001b[0mpercentcooling\u001b[0m \u001b[1;33m=\u001b[0m \u001b[0mjson\u001b[0m\u001b[1;33m.\u001b[0m\u001b[0mloads\u001b[0m\u001b[1;33m(\u001b[0m\u001b[0mvalue_response\u001b[0m\u001b[1;33m.\u001b[0m\u001b[0mtext\u001b[0m\u001b[1;33m)\u001b[0m\u001b[1;33m[\u001b[0m\u001b[1;34m'Value'\u001b[0m\u001b[1;33m]\u001b[0m\u001b[1;33m\u001b[0m\u001b[1;33m\u001b[0m\u001b[0m\n\u001b[0m\u001b[0;32m     22\u001b[0m         \u001b[1;32mif\u001b[0m \u001b[0mj\u001b[0m\u001b[1;33m[\u001b[0m\u001b[1;34m'Name'\u001b[0m\u001b[1;33m]\u001b[0m\u001b[1;33m==\u001b[0m \u001b[1;34m'Setpoint Offset Current'\u001b[0m\u001b[1;33m:\u001b[0m\u001b[1;33m\u001b[0m\u001b[1;33m\u001b[0m\u001b[0m\n\u001b[0;32m     23\u001b[0m             \u001b[0mvalue_response\u001b[0m \u001b[1;33m=\u001b[0m \u001b[0mget\u001b[0m\u001b[1;33m(\u001b[0m\u001b[0mj\u001b[0m\u001b[1;33m[\u001b[0m\u001b[1;34m'Links'\u001b[0m\u001b[1;33m]\u001b[0m\u001b[1;33m[\u001b[0m\u001b[1;34m'Value'\u001b[0m\u001b[1;33m]\u001b[0m\u001b[1;33m)\u001b[0m\u001b[1;33m\u001b[0m\u001b[1;33m\u001b[0m\u001b[0m\n",
      "\u001b[1;31mKeyError\u001b[0m: 'Value'"
     ]
    }
   ],
   "source": [
    "\n",
    "# query elements\n",
    "databasePath = \"\\\\\\\\PISRV01\\\\Building Example\"\n",
    "databaseWebID = getDatabaseWebID(databasePath)\n",
    "\n",
    "query = \"https://localhost/piwebapi/assetdatabases/\"+ databaseWebID + \"/elements?templateName=VAVCO&searchFullHierarchy=true\"\n",
    "elemResponse = get(query)\n",
    "\n",
    "data = json.loads(elemResponse.text)\n",
    "\n",
    "items = data['Items']\n",
    "\n",
    "for i in items:\n",
    "    attributes_response = get(i['Links']['Attributes'])\n",
    "    attributes = json.loads(attributes_response.text) #attributes\n",
    "    attribute_items = attributes['Items']\n",
    "    \n",
    "    \n",
    "    for j in attribute_items:\n",
    "        if j['Name']== '% cooling':\n",
    "            value_response = get(j['Links']['Value'])\n",
    "            percentcooling = json.loads(value_response.text)['Value']\n",
    "        if j['Name']== 'Setpoint Offset Current':\n",
    "            value_response = get(j['Links']['Value'])\n",
    "            setpoint = json.loads(value_response.text)['Value']\n",
    "    \n",
    "       \n",
    "    if datetime.datetime.now().weekday() == 0:\n",
    "        isMonday = 1\n",
    "    else:\n",
    "        isMonday = 0\n",
    "\n",
    "    \n",
    "    #only predict if the value of predictors is greater than 0 and not a dictionary(no data case)\n",
    "    \n",
    "    if isinstance(percentcooling, float):\n",
    "        if percentcooling > 0.0:\n",
    "            print(i['Name'])\n",
    "            forecast = regr.predict([[percentcooling, setpoint, isMonday]])\n",
    "            print (forecast)\n",
    "            \n",
    "            # data ingress using pi web api\n",
    "            body = {'Value' : forecast[0]}\n",
    "            for j in attribute_items:        \n",
    "                if j['Name']=='Predicted Cooling Time':\n",
    "                    query = \"https://localhost/piwebapi/streams/\"+ j['WebId']+ \"/value\"\n",
    "                    response = post(query, body)\n",
    "                    print(response.status_code)\n",
    "    \n",
    "    \n",
    "\n"
   ]
  },
  {
   "cell_type": "markdown",
   "metadata": {},
   "source": [
    "# Scatter Plots"
   ]
  },
  {
   "cell_type": "code",
   "execution_count": 9,
   "metadata": {},
   "outputs": [
    {
     "data": {
      "text/plain": [
       "<matplotlib.collections.PathCollection at 0x2ceedfce2e8>"
      ]
     },
     "execution_count": 9,
     "metadata": {},
     "output_type": "execute_result"
    },
    {
     "data": {
      "image/png": "[encoded data removed]",
      "text/plain": [
       "<Figure size 432x288 with 1 Axes>"
      ]
     },
     "metadata": {},
     "output_type": "display_data"
    }
   ],
   "source": [
    "plt.scatter(df['% Cooling at VAV Start'], df['Duration'])"
   ]
  },
  {
   "cell_type": "code",
   "execution_count": 10,
   "metadata": {},
   "outputs": [
    {
     "data": {
      "text/plain": [
       "<matplotlib.collections.PathCollection at 0x2ceede84278>"
      ]
     },
     "execution_count": 10,
     "metadata": {},
     "output_type": "execute_result"
    },
    {
     "data": {
      "image/png": "[encoded data removed]",
      "text/plain": [
       "<Figure size 432x288 with 1 Axes>"
      ]
     },
     "metadata": {},
     "output_type": "display_data"
    }
   ],
   "source": [
    "plt.scatter(df['Setpoint Offset at start time'], df['Duration'])"
   ]
  },
  {
   "cell_type": "code",
   "execution_count": 11,
   "metadata": {},
   "outputs": [
    {
     "data": {
      "text/plain": [
       "<matplotlib.collections.PathCollection at 0x2ceee244470>"
      ]
     },
     "execution_count": 11,
     "metadata": {},
     "output_type": "execute_result"
    },
    {
     "data": {
      "image/png": "[encoded data removed]",
      "text/plain": [
       "<Figure size 432x288 with 1 Axes>"
      ]
     },
     "metadata": {},
     "output_type": "display_data"
    }
   ],
   "source": [
    "plt.scatter(df['Outside Air Temperature at VAV Start'], df['Duration'])"
   ]
  },
  {
   "cell_type": "code",
   "execution_count": 16,
   "metadata": {},
   "outputs": [
    {
     "name": "stderr",
     "output_type": "stream",
     "text": [
      "\n",
      "Running tests...\n",
      "----------------------------------------------------------------------\n",
      "."
     ]
    },
    {
     "name": "stdout",
     "output_type": "stream",
     "text": [
      "201\n"
     ]
    },
    {
     "name": "stderr",
     "output_type": "stream",
     "text": [
      ".\n",
      "----------------------------------------------------------------------\n",
      "Ran 2 tests in 0.546s\n",
      "\n",
      "OK\n",
      "\n",
      "Generating XML reports...\n"
     ]
    }
   ],
   "source": [
    "import unittest\n",
    "import xmlrunner\n",
    "\n",
    "class TestNotebook(unittest.TestCase):\n",
    "    \n",
    "    \n",
    "    def test_get(self):\n",
    "        piwebapi_url = \"https://localhost/piwebapi\"\n",
    "        asset_server = \"PISRV01\"\n",
    "        \n",
    "        query = piwebapi_url + '/assetservers?path=\\\\\\\\' + asset_server\n",
    "        \n",
    "        self.assertEqual(get(query).status_code, 200)\n",
    "        \n",
    "    def test_post(self):\n",
    "        piwebapi_url = \"https://localhost/piwebapi\"\n",
    "        asset_server = \"PISRV01\"\n",
    "        \n",
    "        query = piwebapi_url + '/assetservers?path=\\\\\\\\' + asset_server\n",
    "        \n",
    "        response = get(query)\n",
    "        data = json.loads(response.text)\n",
    "        databaseNameStr = str(uuid.uuid4())\n",
    "        \n",
    "\n",
    "        #  Create the body for the request\n",
    "        request_body = {\n",
    "            'Name': databaseNameStr,\n",
    "            'Description': 'Test Database for Unit Testing',\n",
    "            'ExtendedProperties': {}\n",
    "        }\n",
    "\n",
    "        post_query = data['Links']['Self'] + '/assetdatabases'\n",
    "        \n",
    "\n",
    "        self.assertEqual(post(post_query, request_body).status_code, 201)\n",
    "        \n",
    "        \n",
    "\n",
    "if __name__ == '__main__':\n",
    "    with open('output.xml', 'w') as output:\n",
    "        unittest.main(argv=['first-arg-is-ignored'], testRunner=xmlrunner.XMLTestRunner(output=output), exit=False,\n",
    "            failfast=False, buffer=False, catchbreak=False)"
   ]
  },
  {
   "cell_type": "code",
   "execution_count": 10,
   "metadata": {},
   "outputs": [],
   "source": []
  }
 ],
 "metadata": {
  "kernelspec": {
   "display_name": "Python 3",
   "language": "python",
   "name": "python3"
  }
 },
 "nbformat": 4,
 "nbformat_minor": 4
}
